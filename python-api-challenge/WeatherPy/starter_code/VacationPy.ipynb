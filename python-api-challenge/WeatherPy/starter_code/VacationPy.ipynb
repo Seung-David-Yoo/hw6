{
 "cells": [
  {
   "cell_type": "markdown",
   "metadata": {},
   "source": [
    "# VacationPy\n",
    "----\n",
    "\n",
    "#### Note\n",
    "* Instructions have been included for each segment. You do not have to follow them exactly, but they are included to help you think through the steps."
   ]
  },
  {
   "cell_type": "code",
   "execution_count": 1,
   "metadata": {},
   "outputs": [],
   "source": [
    "# Dependencies and Setup\n",
    "import matplotlib.pyplot as plt\n",
    "import pandas as pd\n",
    "import numpy as np\n",
    "import requests\n",
    "import gmaps\n",
    "import os\n",
    "\n",
    "# Import API key\n",
    "from api_keys import g_key\n"
   ]
  },
  {
   "cell_type": "markdown",
   "metadata": {},
   "source": [
    "### Store Part I results into DataFrame\n",
    "* Load the csv exported in Part I to a DataFrame"
   ]
  },
  {
   "cell_type": "code",
   "execution_count": 2,
   "metadata": {},
   "outputs": [
    {
     "data": {
      "text/html": [
       "<div>\n",
       "<style scoped>\n",
       "    .dataframe tbody tr th:only-of-type {\n",
       "        vertical-align: middle;\n",
       "    }\n",
       "\n",
       "    .dataframe tbody tr th {\n",
       "        vertical-align: top;\n",
       "    }\n",
       "\n",
       "    .dataframe thead th {\n",
       "        text-align: right;\n",
       "    }\n",
       "</style>\n",
       "<table border=\"1\" class=\"dataframe\">\n",
       "  <thead>\n",
       "    <tr style=\"text-align: right;\">\n",
       "      <th></th>\n",
       "      <th>Unnamed: 0</th>\n",
       "      <th>City</th>\n",
       "      <th>Cloudiness</th>\n",
       "      <th>Country</th>\n",
       "      <th>Data</th>\n",
       "      <th>Humanity</th>\n",
       "      <th>Temperature</th>\n",
       "      <th>Latitude</th>\n",
       "      <th>Longitude</th>\n",
       "      <th>Wind Speed</th>\n",
       "    </tr>\n",
       "  </thead>\n",
       "  <tbody>\n",
       "    <tr>\n",
       "      <th>0</th>\n",
       "      <td>0</td>\n",
       "      <td>acarau</td>\n",
       "      <td>100</td>\n",
       "      <td>BR</td>\n",
       "      <td>1580107591</td>\n",
       "      <td>96</td>\n",
       "      <td>297.32</td>\n",
       "      <td>-2.89</td>\n",
       "      <td>-40.12</td>\n",
       "      <td>2.13</td>\n",
       "    </tr>\n",
       "    <tr>\n",
       "      <th>1</th>\n",
       "      <td>1</td>\n",
       "      <td>verkhnevilyuysk</td>\n",
       "      <td>100</td>\n",
       "      <td>RU</td>\n",
       "      <td>1580107592</td>\n",
       "      <td>97</td>\n",
       "      <td>245.50</td>\n",
       "      <td>63.45</td>\n",
       "      <td>120.32</td>\n",
       "      <td>1.47</td>\n",
       "    </tr>\n",
       "    <tr>\n",
       "      <th>2</th>\n",
       "      <td>2</td>\n",
       "      <td>bredasdorp</td>\n",
       "      <td>90</td>\n",
       "      <td>ZA</td>\n",
       "      <td>1580107753</td>\n",
       "      <td>59</td>\n",
       "      <td>291.15</td>\n",
       "      <td>-34.53</td>\n",
       "      <td>20.04</td>\n",
       "      <td>1.00</td>\n",
       "    </tr>\n",
       "    <tr>\n",
       "      <th>3</th>\n",
       "      <td>3</td>\n",
       "      <td>severo-kurilsk</td>\n",
       "      <td>86</td>\n",
       "      <td>RU</td>\n",
       "      <td>1580107780</td>\n",
       "      <td>91</td>\n",
       "      <td>266.23</td>\n",
       "      <td>50.68</td>\n",
       "      <td>156.12</td>\n",
       "      <td>4.48</td>\n",
       "    </tr>\n",
       "    <tr>\n",
       "      <th>4</th>\n",
       "      <td>4</td>\n",
       "      <td>sakaiminato</td>\n",
       "      <td>75</td>\n",
       "      <td>JP</td>\n",
       "      <td>1580107592</td>\n",
       "      <td>81</td>\n",
       "      <td>282.15</td>\n",
       "      <td>35.55</td>\n",
       "      <td>133.23</td>\n",
       "      <td>12.90</td>\n",
       "    </tr>\n",
       "  </tbody>\n",
       "</table>\n",
       "</div>"
      ],
      "text/plain": [
       "   Unnamed: 0             City  Cloudiness Country        Data  Humanity  \\\n",
       "0           0           acarau         100      BR  1580107591        96   \n",
       "1           1  verkhnevilyuysk         100      RU  1580107592        97   \n",
       "2           2       bredasdorp          90      ZA  1580107753        59   \n",
       "3           3   severo-kurilsk          86      RU  1580107780        91   \n",
       "4           4      sakaiminato          75      JP  1580107592        81   \n",
       "\n",
       "   Temperature  Latitude  Longitude  Wind Speed  \n",
       "0       297.32     -2.89     -40.12        2.13  \n",
       "1       245.50     63.45     120.32        1.47  \n",
       "2       291.15    -34.53      20.04        1.00  \n",
       "3       266.23     50.68     156.12        4.48  \n",
       "4       282.15     35.55     133.23       12.90  "
      ]
     },
     "execution_count": 2,
     "metadata": {},
     "output_type": "execute_result"
    }
   ],
   "source": [
    "resource=\"../output_data/city_output\"\n",
    "file=pd.read_csv(resource)\n",
    "file.head()"
   ]
  },
  {
   "cell_type": "markdown",
   "metadata": {},
   "source": [
    "### Humidity Heatmap\n",
    "* Configure gmaps.\n",
    "* Use the Lat and Lng as locations and Humidity as the weight.\n",
    "* Add Heatmap layer to map."
   ]
  },
  {
   "cell_type": "code",
   "execution_count": 3,
   "metadata": {},
   "outputs": [],
   "source": [
    "gmaps.configure(api_key=g_key)\n",
    "\n",
    "humidity=file['Humanity'].astype(float)\n",
    "\n",
    "city_loc=file[[\"Latitude\",\"Longitude\"]]\n"
   ]
  },
  {
   "cell_type": "code",
   "execution_count": 4,
   "metadata": {},
   "outputs": [
    {
     "data": {
      "application/vnd.jupyter.widget-view+json": {
       "model_id": "8cf00de05b6747749dd7c7a50d46cbf9",
       "version_major": 2,
       "version_minor": 0
      },
      "text/plain": [
       "Figure(layout=FigureLayout(height='420px'))"
      ]
     },
     "metadata": {},
     "output_type": "display_data"
    }
   ],
   "source": [
    "heat_map=gmaps.heatmap_layer(city_loc, weights=humidity, dissipating=False, max_intensity=100, point_radius=1)\n",
    "\n",
    "fig=gmaps.figure(center=(0,0), zoom_level=2)\n",
    "fig.add_layer(heat_map)\n",
    "fig"
   ]
  },
  {
   "cell_type": "markdown",
   "metadata": {},
   "source": [
    "### Create new DataFrame fitting weather criteria\n",
    "* Narrow down the cities to fit weather conditions.\n",
    "* Drop any rows will null values."
   ]
  },
  {
   "cell_type": "code",
   "execution_count": 10,
   "metadata": {},
   "outputs": [
    {
     "data": {
      "text/plain": [
       "124"
      ]
     },
     "execution_count": 10,
     "metadata": {},
     "output_type": "execute_result"
    }
   ],
   "source": [
    "new_city=file.loc[(file['Latitude']>=0)&(file['Longitude']>=0)&(file['Temperature']>=30)&(file['Cloudiness']>=50)]\n",
    "new_city=new_city.dropna(how='all')\n",
    "len(new_city)\n"
   ]
  },
  {
   "cell_type": "markdown",
   "metadata": {},
   "source": [
    "### Hotel Map\n",
    "* Store into variable named `hotel_df`.\n",
    "* Add a \"Hotel Name\" column to the DataFrame.\n",
    "* Set parameters to search for hotels with 5000 meters.\n",
    "* Hit the Google Places API for each city's coordinates.\n",
    "* Store the first Hotel result into the DataFrame.\n",
    "* Plot markers on top of the heatmap."
   ]
  },
  {
   "cell_type": "code",
   "execution_count": 11,
   "metadata": {},
   "outputs": [
    {
     "data": {
      "text/html": [
       "<div>\n",
       "<style scoped>\n",
       "    .dataframe tbody tr th:only-of-type {\n",
       "        vertical-align: middle;\n",
       "    }\n",
       "\n",
       "    .dataframe tbody tr th {\n",
       "        vertical-align: top;\n",
       "    }\n",
       "\n",
       "    .dataframe thead th {\n",
       "        text-align: right;\n",
       "    }\n",
       "</style>\n",
       "<table border=\"1\" class=\"dataframe\">\n",
       "  <thead>\n",
       "    <tr style=\"text-align: right;\">\n",
       "      <th></th>\n",
       "      <th>Unnamed: 0</th>\n",
       "      <th>City</th>\n",
       "      <th>Cloudiness</th>\n",
       "      <th>Country</th>\n",
       "      <th>Data</th>\n",
       "      <th>Humanity</th>\n",
       "      <th>Temperature</th>\n",
       "      <th>Latitude</th>\n",
       "      <th>Longitude</th>\n",
       "      <th>Wind Speed</th>\n",
       "      <th>Hotel Name</th>\n",
       "    </tr>\n",
       "  </thead>\n",
       "  <tbody>\n",
       "    <tr>\n",
       "      <th>0</th>\n",
       "      <td>1</td>\n",
       "      <td>verkhnevilyuysk</td>\n",
       "      <td>100</td>\n",
       "      <td>RU</td>\n",
       "      <td>1580107592</td>\n",
       "      <td>97</td>\n",
       "      <td>245.50</td>\n",
       "      <td>63.45</td>\n",
       "      <td>120.32</td>\n",
       "      <td>1.47</td>\n",
       "      <td>Verkhnevilyuysk</td>\n",
       "    </tr>\n",
       "    <tr>\n",
       "      <th>1</th>\n",
       "      <td>3</td>\n",
       "      <td>severo-kurilsk</td>\n",
       "      <td>86</td>\n",
       "      <td>RU</td>\n",
       "      <td>1580107780</td>\n",
       "      <td>91</td>\n",
       "      <td>266.23</td>\n",
       "      <td>50.68</td>\n",
       "      <td>156.12</td>\n",
       "      <td>4.48</td>\n",
       "      <td>Severo-Kurilsk</td>\n",
       "    </tr>\n",
       "    <tr>\n",
       "      <th>2</th>\n",
       "      <td>4</td>\n",
       "      <td>sakaiminato</td>\n",
       "      <td>75</td>\n",
       "      <td>JP</td>\n",
       "      <td>1580107592</td>\n",
       "      <td>81</td>\n",
       "      <td>282.15</td>\n",
       "      <td>35.55</td>\n",
       "      <td>133.23</td>\n",
       "      <td>12.90</td>\n",
       "      <td>Matsue</td>\n",
       "    </tr>\n",
       "    <tr>\n",
       "      <th>3</th>\n",
       "      <td>9</td>\n",
       "      <td>pevek</td>\n",
       "      <td>100</td>\n",
       "      <td>RU</td>\n",
       "      <td>1580107730</td>\n",
       "      <td>92</td>\n",
       "      <td>253.57</td>\n",
       "      <td>69.70</td>\n",
       "      <td>170.31</td>\n",
       "      <td>1.48</td>\n",
       "      <td>Pevek</td>\n",
       "    </tr>\n",
       "    <tr>\n",
       "      <th>4</th>\n",
       "      <td>15</td>\n",
       "      <td>ugoofaaru</td>\n",
       "      <td>100</td>\n",
       "      <td>MV</td>\n",
       "      <td>1580107593</td>\n",
       "      <td>75</td>\n",
       "      <td>300.52</td>\n",
       "      <td>5.67</td>\n",
       "      <td>73.00</td>\n",
       "      <td>4.12</td>\n",
       "      <td>Ungoofaaru</td>\n",
       "    </tr>\n",
       "  </tbody>\n",
       "</table>\n",
       "</div>"
      ],
      "text/plain": [
       "   Unnamed: 0             City  Cloudiness Country        Data  Humanity  \\\n",
       "0           1  verkhnevilyuysk         100      RU  1580107592        97   \n",
       "1           3   severo-kurilsk          86      RU  1580107780        91   \n",
       "2           4      sakaiminato          75      JP  1580107592        81   \n",
       "3           9            pevek         100      RU  1580107730        92   \n",
       "4          15        ugoofaaru         100      MV  1580107593        75   \n",
       "\n",
       "   Temperature  Latitude  Longitude  Wind Speed       Hotel Name  \n",
       "0       245.50     63.45     120.32        1.47  Verkhnevilyuysk  \n",
       "1       266.23     50.68     156.12        4.48   Severo-Kurilsk  \n",
       "2       282.15     35.55     133.23       12.90           Matsue  \n",
       "3       253.57     69.70     170.31        1.48            Pevek  \n",
       "4       300.52      5.67      73.00        4.12       Ungoofaaru  "
      ]
     },
     "execution_count": 11,
     "metadata": {},
     "output_type": "execute_result"
    }
   ],
   "source": [
    "#hotel_df=new_city.reset_index(drop=True)\n",
    "#len(hotel_df)\n",
    "hotel_df[\"Hotel Name\"]=\"\"\n",
    "\n",
    "\n",
    "\n",
    "for x,row in hotel_df.iterrows():\n",
    "    Lat=row[\"Latitude\"]\n",
    "    Long=row[\"Longitude\"]\n",
    " \n",
    "    params={\"location\":f\"{Lat},{Long}\",\n",
    "        \"radius\":5000,\n",
    "        \"types\":\"hotel\",\n",
    "         \"key\": g_key}\n",
    "\n",
    "    \n",
    "    url_search=\"https://maps.googleapis.com/maps/api/place/nearbysearch/json\"\n",
    "    hotel_name=requests.get(url_search, params=params)\n",
    "    hotel_name=hotel_name.json()\n",
    "    \n",
    "    try:\n",
    "        hotel_df.loc[x,\"Hotel Name\"]=hotel_name['results'][0]['name']\n",
    "    except:\n",
    "        hotel_df.append(\"\")\n",
    "        \n",
    "hotel_df.head()\n"
   ]
  },
  {
   "cell_type": "code",
   "execution_count": null,
   "metadata": {},
   "outputs": [],
   "source": []
  },
  {
   "cell_type": "code",
   "execution_count": null,
   "metadata": {},
   "outputs": [],
   "source": [
    "\n"
   ]
  },
  {
   "cell_type": "code",
   "execution_count": 12,
   "metadata": {},
   "outputs": [],
   "source": [
    "# NOTE: Do not change any of the code in this cell\n",
    "\n",
    "# Using the template add the hotel marks to the heatmap\n",
    "info_box_template = \"\"\"\n",
    "<dl>\n",
    "<dt>Name</dt><dd>{Hotel Name}</dd>\n",
    "<dt>City</dt><dd>{City}</dd>\n",
    "<dt>Country</dt><dd>{Country}</dd>\n",
    "</dl>\n",
    "\"\"\"\n",
    "# Store the DataFrame Row\n",
    "# NOTE: be sure to update with your DataFrame name\n",
    "hotel_info = [info_box_template.format(**row) for index, row in hotel_df.iterrows()]\n",
    "locations = hotel_df[[\"Latitude\", \"Longitude\"]]"
   ]
  },
  {
   "cell_type": "code",
   "execution_count": 13,
   "metadata": {},
   "outputs": [
    {
     "data": {
      "application/vnd.jupyter.widget-view+json": {
       "model_id": "8cf00de05b6747749dd7c7a50d46cbf9",
       "version_major": 2,
       "version_minor": 0
      },
      "text/plain": [
       "Figure(layout=FigureLayout(height='420px'))"
      ]
     },
     "metadata": {},
     "output_type": "display_data"
    }
   ],
   "source": [
    "# Add marker layer ontop of heat map\n",
    "heatmap=gmaps.marker_layer(locations, info_box_content=[f\"Hotel loc:{rate}\" for rate in hotel_info])\n",
    "\n",
    "fig.add_layer(heatmap)\n",
    "fig\n",
    "\n",
    "# Display Map"
   ]
  },
  {
   "cell_type": "code",
   "execution_count": null,
   "metadata": {},
   "outputs": [],
   "source": []
  }
 ],
 "metadata": {
  "kernelspec": {
   "display_name": "Python 3",
   "language": "python",
   "name": "python3"
  },
  "language_info": {
   "codemirror_mode": {
    "name": "ipython",
    "version": 3
   },
   "file_extension": ".py",
   "mimetype": "text/x-python",
   "name": "python",
   "nbconvert_exporter": "python",
   "pygments_lexer": "ipython3",
   "version": "3.6.9"
  },
  "latex_envs": {
   "LaTeX_envs_menu_present": true,
   "autoclose": false,
   "autocomplete": true,
   "bibliofile": "biblio.bib",
   "cite_by": "apalike",
   "current_citInitial": 1,
   "eqLabelWithNumbers": true,
   "eqNumInitial": 1,
   "hotkeys": {
    "equation": "Ctrl-E",
    "itemize": "Ctrl-I"
   },
   "labels_anchors": false,
   "latex_user_defs": false,
   "report_style_numbering": false,
   "user_envs_cfg": false
  }
 },
 "nbformat": 4,
 "nbformat_minor": 2
}
