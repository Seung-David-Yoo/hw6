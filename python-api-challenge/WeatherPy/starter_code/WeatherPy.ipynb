{
 "cells": [
  {
   "cell_type": "markdown",
   "metadata": {},
   "source": [
    "# WeatherPy\n",
    "----\n",
    "\n",
    "#### Note\n",
    "* Instructions have been included for each segment. You do not have to follow them exactly, but they are included to help you think through the steps."
   ]
  },
  {
   "cell_type": "code",
   "execution_count": 121,
   "metadata": {},
   "outputs": [],
   "source": [
    "#In northern hemisphere, the relationship between max temperautre and latitude is pretty high correlation.\n",
    "\n",
    "# THere is low correlation between cloudiness and latitdue.\n",
    "\n",
    "#THere is  high correlation between wind speed and latitdue.\n"
   ]
  },
  {
   "cell_type": "code",
   "execution_count": 27,
   "metadata": {
    "scrolled": true
   },
   "outputs": [],
   "source": [
    "# Dependencies and Setup\n",
    "import matplotlib.pyplot as plt\n",
    "import pandas as pd\n",
    "import numpy as np\n",
    "import requests\n",
    "import time\n",
    "import json\n",
    "from scipy.stats import linregress\n",
    "import gmaps\n",
    "import os\n",
    "\n",
    "# Import API key\n",
    "from api_keys import weather_api_key\n",
    "\n",
    "# Incorporated citipy to determine city based on latitude and longitude\n",
    "from citipy import citipy\n",
    "\n",
    "# Output File (CSV)\n",
    "output_data_file = \"output_data/cities.csv\"\n",
    "\n",
    "# Range of latitudes and longitudes\n",
    "lat_range = (-90, 90)\n",
    "lng_range = (-180, 180)"
   ]
  },
  {
   "cell_type": "markdown",
   "metadata": {},
   "source": [
    "## Generate Cities List"
   ]
  },
  {
   "cell_type": "code",
   "execution_count": 28,
   "metadata": {},
   "outputs": [
    {
     "data": {
      "text/plain": [
       "611"
      ]
     },
     "execution_count": 28,
     "metadata": {},
     "output_type": "execute_result"
    }
   ],
   "source": [
    "# List for holding lat_lngs and cities\n",
    "lat_lngs = []\n",
    "cities = []\n",
    "\n",
    "# Create a set of random lat and lng combinations\n",
    "lats = np.random.uniform(low=-90.000, high=90.000, size=1500)\n",
    "lngs = np.random.uniform(low=-180.000, high=180.000, size=1500)\n",
    "lat_lngs = zip(lats, lngs)\n",
    "\n",
    "# Identify nearest city for each lat, lng combination\n",
    "for lat_lng in lat_lngs:\n",
    "    city = citipy.nearest_city(lat_lng[0], lat_lng[1]).city_name\n",
    "    \n",
    "    # If the city is unique, then add it to a our cities list\n",
    "    if city not in cities:\n",
    "        cities.append(city)\n",
    "\n",
    "# Print the city count to confirm sufficient count\n",
    "len(cities)"
   ]
  },
  {
   "cell_type": "markdown",
   "metadata": {},
   "source": [
    "### Perform API Calls\n",
    "* Perform a weather check on each city using a series of successive API calls.\n",
    "* Include a print log of each city as it'sbeing processed (with the city number and city name).\n"
   ]
  },
  {
   "cell_type": "code",
   "execution_count": null,
   "metadata": {},
   "outputs": [],
   "source": [
    "\n",
    "\n"
   ]
  },
  {
   "cell_type": "code",
   "execution_count": 33,
   "metadata": {},
   "outputs": [
    {
     "name": "stdout",
     "output_type": "stream",
     "text": [
      "Beginning Data Retrieval\n",
      "-----------------------------\n",
      "Processing Record 1 of Set 0 |acarau \n",
      "Processing Record 2 of Set 0 |verkhnevilyuysk \n",
      "Processing Record 3 of Set 0 |bredasdorp \n",
      "Processing Record 4 of Set 0 |severo-kurilsk \n",
      "Processing Record 5 of Set 0 |sakaiminato \n",
      "Processing Record 6 of Set 0 |calvinia \n",
      "Processing Record 7 of Set 0 |sasaima \n",
      "Processing Record 8 of Set 0 |ushuaia \n",
      "Processing Record 9 of Set 0 |rikitea \n",
      "Processing Record 10 of Set 0 |pevek \n",
      "Processing Record 11 of Set 0 |san patricio \n",
      "Processing Record 12 of Set 0 |guerrero negro \n",
      "Processing Record 13 of Set 0 |faanui \n",
      "Processing Record 14 of Set 0 |mar del plata \n",
      "Processing Record 15 of Set 0 |hovd \n",
      "Processing Record 16 of Set 0 |ugoofaaru \n",
      "Processing Record 17 of Set 0 |barrow \n",
      "Processing Record 18 of Set 0 |vaini \n",
      "Processing Record 19 of Set 0 |hilo \n",
      "Processing Record 20 of Set 0 |shingu \n",
      "Processing Record 21 of Set 0 |jacqueville \n",
      "Processing Record 22 of Set 0 |progreso \n",
      "Processing Record 23 of Set 0 |pokosnoye \n",
      "Processing Record 24 of Set 0 |constantine \n",
      "Processing Record 25 of Set 0 |cozumel \n",
      "Processing Record 26 of Set 0 |albany \n",
      "Processing Record 27 of Set 0 |nikolskoye \n",
      "Processing Record 28 of Set 0 |qaanaaq \n",
      "Processing Record 29 of Set 0 |dicabisagan \n",
      "Processing Record 30 of Set 0 |port lincoln \n",
      "Processing Record 31 of Set 0 |grand river south east \n",
      "Processing Record 32 of Set 0 |kalabagh \n",
      "Processing Record 33 of Set 0 |belushya guba \n",
      "Processing Record 34 of Set 0 |roxas \n",
      "Processing Record 35 of Set 0 |clyde river \n",
      "Processing Record 36 of Set 0 |deputatskiy \n",
      "Processing Record 37 of Set 0 |dunedin \n",
      "Processing Record 38 of Set 0 |saint-philippe \n",
      "Processing Record 39 of Set 0 |east london \n",
      "Processing Record 40 of Set 0 |hualmay \n",
      "Processing Record 41 of Set 0 |san ramon \n",
      "Processing Record 42 of Set 0 |upernavik \n",
      "Processing Record 43 of Set 0 |cape town \n",
      "Processing Record 44 of Set 0 |bilibino \n",
      "Processing Record 45 of Set 0 |taolanaro \n",
      "Processing Record 46 of Set 0 |boende \n",
      "Processing Record 47 of Set 0 |cambui \n",
      "Processing Record 48 of Set 0 |victor harbor \n",
      "Processing Record 49 of Set 0 |avarua \n",
      "Processing Record 50 of Set 0 |jibuti \n",
      "Processing Record 0 of Set 1 |tuktoyaktuk \n",
      "Processing Record 1 of Set 1 |chuy \n",
      "Processing Record 2 of Set 1 |nantucket \n",
      "Processing Record 3 of Set 1 |nyurba \n",
      "Processing Record 4 of Set 1 |hobart \n",
      "Processing Record 5 of Set 1 |busselton \n",
      "Processing Record 6 of Set 1 |cabo san lucas \n",
      "Processing Record 7 of Set 1 |port elizabeth \n",
      "Processing Record 8 of Set 1 |taltal \n",
      "Processing Record 9 of Set 1 |barentsburg \n",
      "Processing Record 10 of Set 1 |chagda \n",
      "Processing Record 11 of Set 1 |amapa \n",
      "Processing Record 12 of Set 1 |mys shmidta \n",
      "Processing Record 13 of Set 1 |punta arenas \n",
      "Processing Record 14 of Set 1 |cravo norte \n",
      "Processing Record 15 of Set 1 |ust-tsilma \n",
      "Processing Record 16 of Set 1 |turukhansk \n",
      "Processing Record 17 of Set 1 |yellowknife \n",
      "Processing Record 18 of Set 1 |khandyga \n",
      "Processing Record 19 of Set 1 |maryanovka \n",
      "Processing Record 20 of Set 1 |lagoa \n",
      "Processing Record 21 of Set 1 |gizo \n",
      "Processing Record 22 of Set 1 |grants \n",
      "Processing Record 23 of Set 1 |nome \n",
      "Processing Record 24 of Set 1 |vestmanna \n",
      "Processing Record 25 of Set 1 |bethel \n",
      "Processing Record 26 of Set 1 |trani \n",
      "Processing Record 27 of Set 1 |geraldton \n",
      "Processing Record 28 of Set 1 |chapais \n",
      "Processing Record 29 of Set 1 |vaitupu \n",
      "Processing Record 30 of Set 1 |kavieng \n",
      "Processing Record 31 of Set 1 |kaitangata \n",
      "Processing Record 32 of Set 1 |garden city \n",
      "Processing Record 33 of Set 1 |jamestown \n",
      "Processing Record 34 of Set 1 |staryy nadym \n",
      "Processing Record 35 of Set 1 |arraial do cabo \n",
      "Processing Record 36 of Set 1 |port alfred \n",
      "Processing Record 37 of Set 1 |mataura \n",
      "Processing Record 38 of Set 1 |waipawa \n",
      "Processing Record 39 of Set 1 |mahebourg \n",
      "Processing Record 40 of Set 1 |gurgan \n",
      "Processing Record 41 of Set 1 |dondo \n",
      "Processing Record 42 of Set 1 |namibe \n",
      "Processing Record 43 of Set 1 |necochea \n",
      "Processing Record 44 of Set 1 |bluff \n",
      "Processing Record 45 of Set 1 |butaritari \n",
      "Processing Record 46 of Set 1 |puerto escondido \n",
      "Processing Record 47 of Set 1 |amderma \n",
      "Processing Record 48 of Set 1 |pyapon \n",
      "Processing Record 49 of Set 1 |rincon \n",
      "Processing Record 50 of Set 1 |liberty \n",
      "Processing Record 0 of Set 2 |airai \n",
      "Processing Record 1 of Set 2 |capoterra \n",
      "Processing Record 2 of Set 2 |lhokseumawe \n",
      "Processing Record 3 of Set 2 |sorvag \n",
      "Processing Record 4 of Set 2 |pisco \n",
      "Processing Record 5 of Set 2 |zachagansk \n",
      "Processing Record 6 of Set 2 |sao filipe \n",
      "Processing Record 7 of Set 2 |kristiansund \n",
      "Processing Record 8 of Set 2 |naze \n",
      "Processing Record 9 of Set 2 |itarema \n",
      "Processing Record 10 of Set 2 |arrecife \n",
      "Processing Record 11 of Set 2 |bambous virieux \n",
      "Processing Record 12 of Set 2 |atuona \n",
      "Processing Record 13 of Set 2 |vila do maio \n",
      "Processing Record 14 of Set 2 |lompoc \n",
      "Processing Record 15 of Set 2 |wahran \n",
      "Processing Record 16 of Set 2 |qasigiannguit \n",
      "Processing Record 17 of Set 2 |waycross \n",
      "Processing Record 18 of Set 2 |norman wells \n",
      "Processing Record 19 of Set 2 |saint george \n",
      "Processing Record 20 of Set 2 |puerto ayora \n",
      "Processing Record 21 of Set 2 |polunochnoye \n",
      "Processing Record 22 of Set 2 |the valley \n",
      "Processing Record 23 of Set 2 |talara \n",
      "Processing Record 24 of Set 2 |meyungs \n",
      "Processing Record 25 of Set 2 |funtua \n",
      "Processing Record 26 of Set 2 |poum \n",
      "Processing Record 27 of Set 2 |bubaque \n",
      "Processing Record 28 of Set 2 |inverness \n",
      "Processing Record 29 of Set 2 |sarny \n",
      "Processing Record 30 of Set 2 |westport \n",
      "Processing Record 31 of Set 2 |batemans bay \n",
      "Processing Record 32 of Set 2 |srikakulam \n",
      "Processing Record 33 of Set 2 |cherskiy \n",
      "Processing Record 34 of Set 2 |rio bueno \n",
      "Processing Record 35 of Set 2 |filingue \n",
      "Processing Record 36 of Set 2 |cidreira \n",
      "Processing Record 37 of Set 2 |ames \n",
      "Processing Record 38 of Set 2 |provideniya \n",
      "Processing Record 39 of Set 2 |morant bay \n",
      "Processing Record 40 of Set 2 |miraflores \n",
      "Processing Record 41 of Set 2 |suao \n",
      "Processing Record 42 of Set 2 |luderitz \n",
      "Processing Record 43 of Set 2 |tsihombe \n",
      "Processing Record 44 of Set 2 |kota kinabalu \n",
      "Processing Record 45 of Set 2 |kolyvan \n",
      "Processing Record 46 of Set 2 |san cristobal \n",
      "Processing Record 47 of Set 2 |victoria \n",
      "Processing Record 48 of Set 2 |new norfolk \n",
      "Processing Record 49 of Set 2 |panguipulli \n",
      "Processing Record 50 of Set 2 |chokurdakh \n",
      "Processing Record 0 of Set 3 |mayumba \n",
      "Processing Record 1 of Set 3 |pangani \n",
      "Processing Record 2 of Set 3 |bafq \n",
      "Processing Record 3 of Set 3 |boyolangu \n",
      "Processing Record 4 of Set 3 |ponta do sol \n",
      "Processing Record 5 of Set 3 |vana-vigala \n",
      "Processing Record 6 of Set 3 |castro \n",
      "Processing Record 7 of Set 3 |hithadhoo \n",
      "Processing Record 8 of Set 3 |byron bay \n",
      "Processing Record 9 of Set 3 |kapaa \n",
      "Processing Record 10 of Set 3 |tasiilaq \n",
      "Processing Record 11 of Set 3 |havre-saint-pierre \n",
      "Processing Record 12 of Set 3 |fukue \n",
      "Processing Record 13 of Set 3 |kamina \n",
      "Processing Record 14 of Set 3 |belmonte \n",
      "Processing Record 15 of Set 3 |saint-joseph \n",
      "Processing Record 16 of Set 3 |yanggu \n",
      "Processing Record 17 of Set 3 |carnarvon \n",
      "Processing Record 18 of Set 3 |genhe \n",
      "Processing Record 19 of Set 3 |college \n",
      "Processing Record 20 of Set 3 |outram \n",
      "Processing Record 21 of Set 3 |hami \n",
      "Processing Record 22 of Set 3 |illoqqortoormiut \n",
      "Processing Record 23 of Set 3 |lebu \n",
      "Processing Record 24 of Set 3 |galiwinku \n",
      "Processing Record 25 of Set 3 |tezu \n",
      "Processing Record 26 of Set 3 |zhigansk \n",
      "Processing Record 27 of Set 3 |aksarka \n",
      "Processing Record 28 of Set 3 |thompson \n",
      "Processing Record 29 of Set 3 |luanda \n",
      "Processing Record 30 of Set 3 |esso \n",
      "Processing Record 31 of Set 3 |smithers \n",
      "Processing Record 32 of Set 3 |kodiak \n",
      "Processing Record 33 of Set 3 |labuan \n",
      "Processing Record 34 of Set 3 |dauphin \n",
      "Processing Record 35 of Set 3 |hofn \n",
      "Processing Record 36 of Set 3 |samarai \n",
      "Processing Record 37 of Set 3 |el faiyum \n",
      "Processing Record 38 of Set 3 |ribeira brava \n",
      "Processing Record 39 of Set 3 |san jose \n",
      "Processing Record 40 of Set 3 |port macquarie \n",
      "Processing Record 41 of Set 3 |uspenka \n",
      "Processing Record 42 of Set 3 |passa quatro \n",
      "Processing Record 43 of Set 3 |esperance \n",
      "Processing Record 44 of Set 3 |maumere \n"
     ]
    },
    {
     "name": "stdout",
     "output_type": "stream",
     "text": [
      "Processing Record 45 of Set 3 |longyearbyen \n",
      "Processing Record 46 of Set 3 |treinta y tres \n",
      "Processing Record 47 of Set 3 |isangel \n",
      "Processing Record 48 of Set 3 |ketchikan \n",
      "Processing Record 49 of Set 3 |stranraer \n",
      "Processing Record 50 of Set 3 |grand-bourg \n",
      "Processing Record 0 of Set 4 |coihaique \n",
      "Processing Record 1 of Set 4 |nanortalik \n",
      "Processing Record 2 of Set 4 |svetlyy yar \n",
      "Processing Record 3 of Set 4 |merauke \n",
      "Processing Record 4 of Set 4 |watsa \n",
      "Processing Record 5 of Set 4 |baghdad \n",
      "Processing Record 6 of Set 4 |satitoa \n",
      "Processing Record 7 of Set 4 |halalo \n",
      "Processing Record 8 of Set 4 |tabou \n",
      "Processing Record 9 of Set 4 |ilulissat \n",
      "Processing Record 10 of Set 4 |skjervoy \n",
      "Processing Record 11 of Set 4 |saint anthony \n",
      "Processing Record 12 of Set 4 |vila franca do campo \n",
      "Processing Record 13 of Set 4 |save \n",
      "Processing Record 14 of Set 4 |sentyabrskiy \n",
      "Processing Record 15 of Set 4 |nogent-le-rotrou \n",
      "Processing Record 16 of Set 4 |alofi \n",
      "Processing Record 17 of Set 4 |ahipara \n",
      "Processing Record 18 of Set 4 |deniliquin \n",
      "Processing Record 19 of Set 4 |mitsamiouli \n",
      "Processing Record 20 of Set 4 |sohag \n",
      "Processing Record 21 of Set 4 |pangnirtung \n",
      "Processing Record 22 of Set 4 |shahreza \n",
      "Processing Record 23 of Set 4 |komsomolskiy \n",
      "Processing Record 24 of Set 4 |kununurra \n",
      "Processing Record 25 of Set 4 |tevriz \n",
      "Processing Record 26 of Set 4 |homer \n",
      "Processing Record 27 of Set 4 |hauknes \n",
      "Processing Record 28 of Set 4 |russell \n",
      "Processing Record 29 of Set 4 |verdalsora \n",
      "Processing Record 30 of Set 4 |ancud \n",
      "Processing Record 31 of Set 4 |eenhana \n",
      "Processing Record 32 of Set 4 |nizhneyansk \n",
      "Processing Record 33 of Set 4 |cockburn town \n",
      "Processing Record 34 of Set 4 |trinidad \n",
      "Processing Record 35 of Set 4 |atambua \n",
      "Processing Record 36 of Set 4 |mitchell \n",
      "Processing Record 37 of Set 4 |lodja \n",
      "Processing Record 38 of Set 4 |moramanga \n",
      "Processing Record 39 of Set 4 |broken hill \n",
      "Processing Record 40 of Set 4 |aklavik \n",
      "Processing Record 41 of Set 4 |hasaki \n",
      "Processing Record 42 of Set 4 |san policarpo \n",
      "Processing Record 43 of Set 4 |kavaratti \n",
      "Processing Record 44 of Set 4 |tuatapere \n",
      "Processing Record 45 of Set 4 |okhotsk \n",
      "Processing Record 46 of Set 4 |saldanha \n",
      "Processing Record 47 of Set 4 |nouadhibou \n",
      "Processing Record 48 of Set 4 |sulangan \n",
      "Processing Record 49 of Set 4 |sataua \n",
      "Processing Record 50 of Set 4 |leshukonskoye \n",
      "Processing Record 0 of Set 5 |asau \n",
      "Processing Record 1 of Set 5 |berlevag \n",
      "Processing Record 2 of Set 5 |vao \n",
      "Processing Record 3 of Set 5 |lewisburg \n",
      "Processing Record 4 of Set 5 |turbat \n",
      "Processing Record 5 of Set 5 |sonoita \n",
      "Processing Record 6 of Set 5 |cape coast \n",
      "Processing Record 7 of Set 5 |ribeira grande \n",
      "Processing Record 8 of Set 5 |stephenville \n",
      "Processing Record 9 of Set 5 |ballina \n",
      "Processing Record 10 of Set 5 |samarkand \n",
      "Processing Record 11 of Set 5 |nambucca heads \n",
      "Processing Record 12 of Set 5 |dudinka \n",
      "Processing Record 13 of Set 5 |nerchinskiy zavod \n",
      "Processing Record 14 of Set 5 |fortuna \n",
      "Processing Record 15 of Set 5 |ponta delgada \n",
      "Processing Record 16 of Set 5 |bastia \n",
      "Processing Record 17 of Set 5 |tessalit \n",
      "Processing Record 18 of Set 5 |aswan \n",
      "Processing Record 19 of Set 5 |carutapera \n",
      "Processing Record 20 of Set 5 |chaihe \n",
      "Processing Record 21 of Set 5 |narsaq \n",
      "Processing Record 22 of Set 5 |avera \n",
      "Processing Record 23 of Set 5 |ijaki \n",
      "Processing Record 24 of Set 5 |hirara \n",
      "Processing Record 25 of Set 5 |bengkulu \n",
      "Processing Record 26 of Set 5 |husyatyn \n",
      "Processing Record 27 of Set 5 |jacksonville \n",
      "Processing Record 28 of Set 5 |maghama \n",
      "Processing Record 29 of Set 5 |torbay \n",
      "Processing Record 30 of Set 5 |otautau \n",
      "Processing Record 31 of Set 5 |ginir \n",
      "Processing Record 32 of Set 5 |oranjemund \n",
      "Processing Record 33 of Set 5 |besikduzu \n",
      "Processing Record 34 of Set 5 |bolungarvik \n",
      "Processing Record 35 of Set 5 |petatlan \n",
      "Processing Record 36 of Set 5 |xunchang \n",
      "Processing Record 37 of Set 5 |saskylakh \n",
      "Processing Record 38 of Set 5 |klaksvik \n",
      "Processing Record 39 of Set 5 |ulaangom \n",
      "Processing Record 40 of Set 5 |half moon bay \n",
      "Processing Record 41 of Set 5 |khani \n",
      "Processing Record 42 of Set 5 |potgietersrus \n",
      "Processing Record 43 of Set 5 |yaan \n",
      "Processing Record 44 of Set 5 |banda aceh \n",
      "Processing Record 45 of Set 5 |umzimvubu \n",
      "Processing Record 46 of Set 5 |qiongshan \n",
      "Processing Record 47 of Set 5 |salalah \n",
      "Processing Record 48 of Set 5 |ust-nera \n",
      "Processing Record 49 of Set 5 |kieta \n",
      "Processing Record 50 of Set 5 |ca mau \n",
      "Processing Record 0 of Set 6 |dikson \n",
      "Processing Record 1 of Set 6 |saleaula \n",
      "Processing Record 2 of Set 6 |george town \n",
      "Processing Record 3 of Set 6 |karratha \n",
      "Processing Record 4 of Set 6 |leopold \n",
      "Processing Record 5 of Set 6 |labuhan \n",
      "Processing Record 6 of Set 6 |madhogarh \n",
      "Processing Record 7 of Set 6 |hermanus \n",
      "Processing Record 8 of Set 6 |lakhdenpokhya \n",
      "Processing Record 9 of Set 6 |chapulhuacan \n",
      "Processing Record 10 of Set 6 |teguldet \n",
      "Processing Record 11 of Set 6 |boz \n",
      "Processing Record 12 of Set 6 |rio grande \n",
      "Processing Record 13 of Set 6 |port hedland \n",
      "Processing Record 14 of Set 6 |rafraf \n",
      "Processing Record 15 of Set 6 |vestmannaeyjar \n",
      "Processing Record 16 of Set 6 |keighley \n",
      "Processing Record 17 of Set 6 |butte \n",
      "Processing Record 18 of Set 6 |shangrao \n",
      "Processing Record 19 of Set 6 |rutland \n",
      "Processing Record 20 of Set 6 |khash \n",
      "Processing Record 21 of Set 6 |atoyac \n",
      "Processing Record 22 of Set 6 |lorengau \n",
      "Processing Record 23 of Set 6 |klyuchi \n",
      "Processing Record 24 of Set 6 |gatton \n",
      "Processing Record 25 of Set 6 |dingle \n",
      "Processing Record 26 of Set 6 |dokri \n",
      "Processing Record 27 of Set 6 |neiafu \n",
      "Processing Record 28 of Set 6 |chelno-vershiny \n",
      "Processing Record 29 of Set 6 |purwodadi \n",
      "Processing Record 30 of Set 6 |ouango \n",
      "Processing Record 31 of Set 6 |nordby \n",
      "Processing Record 32 of Set 6 |pyaozerskiy \n",
      "Processing Record 33 of Set 6 |qiryat gat \n",
      "Processing Record 34 of Set 6 |lahat \n",
      "Processing Record 35 of Set 6 |sao lourenco da serra \n",
      "Processing Record 36 of Set 6 |grindavik \n",
      "Processing Record 37 of Set 6 |labrea \n",
      "Processing Record 38 of Set 6 |novyy urengoy \n",
      "Processing Record 39 of Set 6 |xichang \n",
      "Processing Record 40 of Set 6 |kloulklubed \n",
      "Processing Record 41 of Set 6 |huoqiu \n",
      "Processing Record 42 of Set 6 |kalanguy \n",
      "Processing Record 43 of Set 6 |mandalgovi \n",
      "Processing Record 44 of Set 6 |sitka \n",
      "Processing Record 45 of Set 6 |toliary \n",
      "Processing Record 46 of Set 6 |rapid city \n",
      "Processing Record 47 of Set 6 |moiyabana \n",
      "Processing Record 48 of Set 6 |mattru \n",
      "Processing Record 49 of Set 6 |sola \n",
      "Processing Record 50 of Set 6 |ocumare del tuy \n",
      "Processing Record 0 of Set 7 |amravati \n",
      "Processing Record 1 of Set 7 |gladstone \n",
      "Processing Record 2 of Set 7 |bathsheba \n",
      "Processing Record 3 of Set 7 |mount gambier \n",
      "Processing Record 4 of Set 7 |port blair \n",
      "Processing Record 5 of Set 7 |chiredzi \n",
      "Processing Record 6 of Set 7 |khatanga \n",
      "Processing Record 7 of Set 7 |huescar \n",
      "Processing Record 8 of Set 7 |vrsac \n",
      "Processing Record 9 of Set 7 |port-cartier \n",
      "Processing Record 10 of Set 7 |flin flon \n",
      "Processing Record 11 of Set 7 |burica \n",
      "Processing Record 12 of Set 7 |savannah \n",
      "Processing Record 13 of Set 7 |hambantota \n",
      "Processing Record 14 of Set 7 |punto fijo \n",
      "Processing Record 15 of Set 7 |los llanos de aridane \n",
      "Processing Record 16 of Set 7 |katsuura \n",
      "Processing Record 17 of Set 7 |ornes \n",
      "Processing Record 18 of Set 7 |sabya \n",
      "Processing Record 19 of Set 7 |visby \n",
      "Processing Record 20 of Set 7 |katherine \n",
      "Processing Record 21 of Set 7 |portobelo \n",
      "Processing Record 22 of Set 7 |ulladulla \n",
      "Processing Record 23 of Set 7 |vernon \n",
      "Processing Record 24 of Set 7 |bartica \n",
      "Processing Record 25 of Set 7 |bantou \n",
      "Processing Record 26 of Set 7 |batagay \n",
      "Processing Record 27 of Set 7 |talnakh \n",
      "Processing Record 28 of Set 7 |karagaylinskiy \n",
      "Processing Record 29 of Set 7 |beringovskiy \n",
      "Processing Record 30 of Set 7 |haibowan \n",
      "Processing Record 31 of Set 7 |codrington \n",
      "Processing Record 32 of Set 7 |bandarbeyla \n",
      "Processing Record 33 of Set 7 |kamenka \n",
      "Processing Record 34 of Set 7 |mackay \n",
      "Processing Record 35 of Set 7 |laguna \n",
      "Processing Record 36 of Set 7 |llandrindod wells \n",
      "Processing Record 37 of Set 7 |barwani \n",
      "Processing Record 38 of Set 7 |rawson \n",
      "Processing Record 39 of Set 7 |turtas \n"
     ]
    },
    {
     "name": "stdout",
     "output_type": "stream",
     "text": [
      "Processing Record 40 of Set 7 |iqaluit \n",
      "Processing Record 41 of Set 7 |kahului \n",
      "Processing Record 42 of Set 7 |belyy yar \n",
      "Processing Record 43 of Set 7 |traverse city \n",
      "Processing Record 44 of Set 7 |georgetown \n",
      "Processing Record 45 of Set 7 |praya \n",
      "Processing Record 46 of Set 7 |salmon arm \n",
      "Processing Record 47 of Set 7 |seydi \n",
      "Processing Record 48 of Set 7 |bur gabo \n",
      "Processing Record 49 of Set 7 |leningradskiy \n",
      "Processing Record 50 of Set 7 |tarudant \n",
      "Processing Record 0 of Set 8 |ayr \n",
      "Processing Record 1 of Set 8 |finnsnes \n",
      "Processing Record 2 of Set 8 |egvekinot \n",
      "Processing Record 3 of Set 8 |portland \n",
      "Processing Record 4 of Set 8 |kruisfontein \n",
      "Processing Record 5 of Set 8 |mayo \n",
      "Processing Record 6 of Set 8 |bargteheide \n",
      "Processing Record 7 of Set 8 |bontang \n",
      "Processing Record 8 of Set 8 |arlit \n",
      "Processing Record 9 of Set 8 |honiara \n",
      "Processing Record 10 of Set 8 |adwa \n",
      "Processing Record 11 of Set 8 |douentza \n",
      "Processing Record 12 of Set 8 |wangqing \n",
      "Processing Record 13 of Set 8 |arman \n",
      "Processing Record 14 of Set 8 |quesnel \n",
      "Processing Record 15 of Set 8 |caucaia \n",
      "Processing Record 16 of Set 8 |saraland \n",
      "Processing Record 17 of Set 8 |port hardy \n",
      "Processing Record 18 of Set 8 |abay \n",
      "Processing Record 19 of Set 8 |touros \n",
      "Processing Record 20 of Set 8 |inirida \n",
      "Processing Record 21 of Set 8 |souillac \n",
      "Processing Record 22 of Set 8 |alcaniz \n",
      "Processing Record 23 of Set 8 |yulara \n",
      "Processing Record 24 of Set 8 |bukama \n",
      "Processing Record 25 of Set 8 |lensk \n",
      "Processing Record 26 of Set 8 |cazaje \n",
      "Processing Record 27 of Set 8 |pishin \n",
      "Processing Record 28 of Set 8 |ibipeba \n",
      "Processing Record 29 of Set 8 |englehart \n",
      "Processing Record 30 of Set 8 |nazare \n",
      "Processing Record 31 of Set 8 |dwarka \n",
      "Processing Record 32 of Set 8 |san felipe \n",
      "Processing Record 33 of Set 8 |port augusta \n",
      "Processing Record 34 of Set 8 |padang \n",
      "Processing Record 35 of Set 8 |cururupu \n",
      "Processing Record 36 of Set 8 |warqla \n",
      "Processing Record 37 of Set 8 |murakami \n",
      "Processing Record 38 of Set 8 |iskateley \n",
      "Processing Record 39 of Set 8 |kawalu \n",
      "Processing Record 40 of Set 8 |toora-khem \n",
      "Processing Record 41 of Set 8 |gollere \n",
      "Processing Record 42 of Set 8 |san francisco \n",
      "Processing Record 43 of Set 8 |jiddah \n",
      "Processing Record 44 of Set 8 |bairiki \n",
      "Processing Record 45 of Set 8 |port keats \n",
      "Processing Record 46 of Set 8 |phuket \n",
      "Processing Record 47 of Set 8 |ambon \n",
      "Processing Record 48 of Set 8 |bang krathum \n",
      "Processing Record 49 of Set 8 |yuli \n",
      "Processing Record 50 of Set 8 |attawapiskat \n",
      "Processing Record 0 of Set 9 |kamenskoye \n",
      "Processing Record 1 of Set 9 |wagar \n",
      "Processing Record 2 of Set 9 |gazli \n",
      "Processing Record 3 of Set 9 |bull savanna \n",
      "Processing Record 4 of Set 9 |moron \n",
      "Processing Record 5 of Set 9 |muravlenko \n",
      "Processing Record 6 of Set 9 |fria \n",
      "Processing Record 7 of Set 9 |kalino \n",
      "Processing Record 8 of Set 9 |valparaiso \n",
      "Processing Record 9 of Set 9 |barcelos \n",
      "Processing Record 10 of Set 9 |aasiaat \n",
      "Processing Record 11 of Set 9 |tateyama \n",
      "Processing Record 12 of Set 9 |labranzagrande \n",
      "Processing Record 13 of Set 9 |vostok \n",
      "Processing Record 14 of Set 9 |mocoa \n",
      "Processing Record 15 of Set 9 |svetlyy \n",
      "Processing Record 16 of Set 9 |mukhen \n",
      "Processing Record 17 of Set 9 |katobu \n",
      "Processing Record 18 of Set 9 |mbanza-ngungu \n",
      "Processing Record 19 of Set 9 |kishapu \n",
      "Processing Record 20 of Set 9 |rudnogorsk \n",
      "Processing Record 21 of Set 9 |williams lake \n",
      "Processing Record 22 of Set 9 |antofagasta \n",
      "Processing Record 23 of Set 9 |liverpool \n",
      "Processing Record 24 of Set 9 |sorland \n",
      "Processing Record 25 of Set 9 |mana \n",
      "Processing Record 26 of Set 9 |snyder \n",
      "Processing Record 27 of Set 9 |aflu \n",
      "Processing Record 28 of Set 9 |lethem \n",
      "Processing Record 29 of Set 9 |dire \n",
      "Processing Record 30 of Set 9 |atlantic city \n",
      "Processing Record 31 of Set 9 |rungata \n",
      "Processing Record 32 of Set 9 |owen sound \n",
      "Processing Record 33 of Set 9 |itiuba \n",
      "Processing Record 34 of Set 9 |nuuk \n",
      "Processing Record 35 of Set 9 |finschhafen \n",
      "Processing Record 36 of Set 9 |harper \n",
      "Processing Record 37 of Set 9 |olafsvik \n",
      "Processing Record 38 of Set 9 |margate \n",
      "Processing Record 39 of Set 9 |coolum beach \n",
      "Processing Record 40 of Set 9 |haines junction \n",
      "Processing Record 41 of Set 9 |mazatlan \n",
      "Processing Record 42 of Set 9 |te anau \n",
      "Processing Record 43 of Set 9 |mormugao \n",
      "Processing Record 44 of Set 9 |castricum \n",
      "Processing Record 45 of Set 9 |senador jose porfirio \n",
      "Processing Record 46 of Set 9 |zaysan \n",
      "Processing Record 47 of Set 9 |praia da vitoria \n",
      "Processing Record 48 of Set 9 |minna \n",
      "Processing Record 49 of Set 9 |backnang \n",
      "Processing Record 50 of Set 9 |kano \n",
      "Processing Record 0 of Set 10 |kaeo \n",
      "Processing Record 1 of Set 10 |sisimiut \n",
      "Processing Record 2 of Set 10 |sirjan \n",
      "Processing Record 3 of Set 10 |insar \n",
      "Processing Record 4 of Set 10 |soderhamn \n",
      "Processing Record 5 of Set 10 |pamplona \n",
      "Processing Record 6 of Set 10 |cap-aux-meules \n",
      "Processing Record 7 of Set 10 |alvik \n",
      "Processing Record 8 of Set 10 |kabinda \n",
      "Processing Record 9 of Set 10 |krasnoselkup \n",
      "Processing Record 10 of Set 10 |peniche \n",
      "Processing Record 11 of Set 10 |khrebtovaya \n",
      "Processing Record 12 of Set 10 |marang \n",
      "Processing Record 13 of Set 10 |lisakovsk \n",
      "Processing Record 14 of Set 10 |sabha \n",
      "Processing Record 15 of Set 10 |ust-uda \n",
      "Processing Record 16 of Set 10 |soyo \n",
      "Processing Record 17 of Set 10 |namatanai \n",
      "Processing Record 18 of Set 10 |tiksi \n",
      "Processing Record 19 of Set 10 |kitami \n",
      "Processing Record 20 of Set 10 |luoyang \n",
      "Processing Record 21 of Set 10 |tagusao \n",
      "Processing Record 22 of Set 10 |roma \n",
      "Processing Record 23 of Set 10 |viligili \n",
      "Processing Record 24 of Set 10 |bordei verde \n",
      "Processing Record 25 of Set 10 |moissala \n",
      "Processing Record 26 of Set 10 |sena madureira \n",
      "Processing Record 27 of Set 10 |abu zabad \n",
      "Processing Record 28 of Set 10 |lappeenranta \n",
      "Processing Record 29 of Set 10 |coetupo \n",
      "Processing Record 30 of Set 10 |tubruq \n",
      "Processing Record 31 of Set 10 |sambava \n",
      "Processing Record 32 of Set 10 |rorvik \n",
      "Processing Record 33 of Set 10 |manakara \n",
      "Processing Record 34 of Set 10 |baiyin \n",
      "Processing Record 35 of Set 10 |flinders \n",
      "Processing Record 36 of Set 10 |acari \n",
      "Processing Record 37 of Set 10 |dashitou \n",
      "Processing Record 38 of Set 10 |nayoro \n",
      "Processing Record 39 of Set 10 |bolshaya atnya \n",
      "Processing Record 40 of Set 10 |puerto del rosario \n",
      "Processing Record 41 of Set 10 |goderich \n",
      "Processing Record 42 of Set 10 |ust-karsk \n",
      "Processing Record 43 of Set 10 |hangzhou \n",
      "Processing Record 44 of Set 10 |ilula \n",
      "Processing Record 45 of Set 10 |makushino \n",
      "Processing Record 46 of Set 10 |shwebo \n",
      "Processing Record 47 of Set 10 |kantabanji \n",
      "Processing Record 48 of Set 10 |manono \n",
      "Processing Record 49 of Set 10 |aracati \n",
      "Processing Record 50 of Set 10 |igrim \n",
      "Processing Record 0 of Set 11 |karaul \n",
      "Processing Record 1 of Set 11 |axim \n",
      "Processing Record 2 of Set 11 |sinjar \n",
      "Processing Record 3 of Set 11 |coquimbo \n",
      "Processing Record 4 of Set 11 |burnie \n",
      "Processing Record 5 of Set 11 |auki \n",
      "Processing Record 6 of Set 11 |kailua \n",
      "Processing Record 7 of Set 11 |borlange \n",
      "Processing Record 8 of Set 11 |prachuap khiri khan \n",
      "Processing Record 9 of Set 11 |lake havasu city \n",
      "Processing Record 10 of Set 11 |kajaani \n",
      "Processing Record 11 of Set 11 |megion \n",
      "Processing Record 12 of Set 11 |panzhihua \n",
      "Processing Record 13 of Set 11 |porbandar \n",
      "Processing Record 14 of Set 11 |union \n",
      "Processing Record 15 of Set 11 |tigil \n",
      "Processing Record 16 of Set 11 |mahaicony \n",
      "Processing Record 17 of Set 11 |takoradi \n",
      "Processing Record 18 of Set 11 |taoudenni \n",
      "Processing Record 19 of Set 11 |hongjiang \n",
      "Processing Record 20 of Set 11 |atbasar \n",
      "Processing Record 21 of Set 11 |posse \n",
      "Processing Record 22 of Set 11 |graham \n",
      "Processing Record 23 of Set 11 |cap malheureux \n",
      "Processing Record 24 of Set 11 |udachnyy \n",
      "Processing Record 25 of Set 11 |saint-augustin \n",
      "Processing Record 26 of Set 11 |bideford \n",
      "Processing Record 27 of Set 11 |kuching \n",
      "Processing Record 28 of Set 11 |innisfail \n",
      "Processing Record 29 of Set 11 |barra do corda \n",
      "Processing Record 30 of Set 11 |ormond beach \n",
      "Processing Record 31 of Set 11 |la libertad \n",
      "Processing Record 32 of Set 11 |richards bay \n",
      "Processing Record 33 of Set 11 |nokha \n",
      "Processing Record 34 of Set 11 |raudeberg \n"
     ]
    },
    {
     "name": "stdout",
     "output_type": "stream",
     "text": [
      "Processing Record 35 of Set 11 |jiwani \n",
      "Processing Record 36 of Set 11 |candawaga \n",
      "Processing Record 37 of Set 11 |nizhnyaya tavda \n",
      "Processing Record 38 of Set 11 |peachtree city \n",
      "Processing Record 39 of Set 11 |edd \n",
      "Processing Record 40 of Set 11 |inyonga \n",
      "Processing Record 41 of Set 11 |okakarara \n",
      "Processing Record 42 of Set 11 |palkino \n",
      "Processing Record 43 of Set 11 |bada \n",
      "Processing Record 44 of Set 11 |alice springs \n",
      "Processing Record 45 of Set 11 |palabuhanratu \n",
      "Processing Record 46 of Set 11 |bend \n",
      "Processing Record 47 of Set 11 |west wendover \n",
      "Processing Record 48 of Set 11 |lata \n",
      "Processing Record 49 of Set 11 |lyubinskiy \n",
      "Processing Record 50 of Set 11 |gravdal \n",
      "-----------------------------\n",
      "Data Retrieval Complete \n",
      "-----------------------------\n"
     ]
    }
   ],
   "source": [
    "print(\"Beginning Data Retrieval\")\n",
    "print(\"-----------------------------\")\n",
    "\n",
    "record_number=0\n",
    "set_number=0\n",
    "\n",
    "url=\"http://api.openweathermap.org/data/2.5/weather?\"\n",
    "\n",
    "\n",
    "\n",
    "for city in cities:\n",
    "    query_url=url + \"appid=\" + weather_api_key + \"&q=\" \n",
    "    response=requests.get(query_url+city).json()\n",
    "    \n",
    "    if record_number<50:\n",
    "        record_number+=1\n",
    "    else:\n",
    "        set_number+=1\n",
    "        record_number=0\n",
    "        \n",
    "    print(f\"Processing Record {record_number} of Set {set_number} |{city} \")\n",
    "    \n",
    "  \n",
    "    time.sleep(0.5)\n",
    "print(\"-----------------------------\")\n",
    "print(\"Data Retrieval Complete \")\n",
    "print(\"-----------------------------\")\n",
    "\n"
   ]
  },
  {
   "cell_type": "code",
   "execution_count": null,
   "metadata": {},
   "outputs": [],
   "source": [
    "\n"
   ]
  },
  {
   "cell_type": "code",
   "execution_count": 47,
   "metadata": {},
   "outputs": [],
   "source": [
    "cloudiness=[]\n",
    "country=[]\n",
    "date=[]\n",
    "humidity=[]\n",
    "lat=[]\n",
    "lng=[]\n",
    "max_temp=[]\n",
    "wind_speed=[]\n",
    "city_list=[]\n",
    "\n",
    "for city in cities:\n",
    "    query_url=url + \"appid=\" + weather_api_key + \"&q=\" \n",
    "    response=requests.get(query_url+city).json()\n",
    "    \n",
    "    try:\n",
    "        cloudiness.append(response['clouds']['all'])\n",
    "        country.append(response['sys']['country'])\n",
    "        date.append(response['dt'])\n",
    "        humidity.append(response['main']['humidity'])\n",
    "        lat.append(response['coord']['lat'])\n",
    "        lng.append(response['coord']['lon'])\n",
    "        max_temp.append(response['main']['temp_max'])\n",
    "        wind_speed.append(response['wind']['speed'])\n",
    "        city_list.append(city)\n",
    "    \n",
    "    except:\n",
    "        \n",
    "        continue\n",
    "\n"
   ]
  },
  {
   "cell_type": "code",
   "execution_count": 49,
   "metadata": {},
   "outputs": [
    {
     "data": {
      "text/html": [
       "<div>\n",
       "<style scoped>\n",
       "    .dataframe tbody tr th:only-of-type {\n",
       "        vertical-align: middle;\n",
       "    }\n",
       "\n",
       "    .dataframe tbody tr th {\n",
       "        vertical-align: top;\n",
       "    }\n",
       "\n",
       "    .dataframe thead th {\n",
       "        text-align: right;\n",
       "    }\n",
       "</style>\n",
       "<table border=\"1\" class=\"dataframe\">\n",
       "  <thead>\n",
       "    <tr style=\"text-align: right;\">\n",
       "      <th></th>\n",
       "      <th>City</th>\n",
       "      <th>Cloudiness</th>\n",
       "      <th>Country</th>\n",
       "      <th>Data</th>\n",
       "      <th>Humanity</th>\n",
       "      <th>Temperature</th>\n",
       "      <th>Latitude</th>\n",
       "      <th>Longitude</th>\n",
       "      <th>Wind Speed</th>\n",
       "    </tr>\n",
       "  </thead>\n",
       "  <tbody>\n",
       "    <tr>\n",
       "      <th>0</th>\n",
       "      <td>acarau</td>\n",
       "      <td>100</td>\n",
       "      <td>BR</td>\n",
       "      <td>1580107591</td>\n",
       "      <td>96</td>\n",
       "      <td>297.32</td>\n",
       "      <td>-2.89</td>\n",
       "      <td>-40.12</td>\n",
       "      <td>2.13</td>\n",
       "    </tr>\n",
       "    <tr>\n",
       "      <th>1</th>\n",
       "      <td>verkhnevilyuysk</td>\n",
       "      <td>100</td>\n",
       "      <td>RU</td>\n",
       "      <td>1580107592</td>\n",
       "      <td>97</td>\n",
       "      <td>245.50</td>\n",
       "      <td>63.45</td>\n",
       "      <td>120.32</td>\n",
       "      <td>1.47</td>\n",
       "    </tr>\n",
       "    <tr>\n",
       "      <th>2</th>\n",
       "      <td>bredasdorp</td>\n",
       "      <td>90</td>\n",
       "      <td>ZA</td>\n",
       "      <td>1580107753</td>\n",
       "      <td>59</td>\n",
       "      <td>291.15</td>\n",
       "      <td>-34.53</td>\n",
       "      <td>20.04</td>\n",
       "      <td>1.00</td>\n",
       "    </tr>\n",
       "    <tr>\n",
       "      <th>3</th>\n",
       "      <td>severo-kurilsk</td>\n",
       "      <td>86</td>\n",
       "      <td>RU</td>\n",
       "      <td>1580107780</td>\n",
       "      <td>91</td>\n",
       "      <td>266.23</td>\n",
       "      <td>50.68</td>\n",
       "      <td>156.12</td>\n",
       "      <td>4.48</td>\n",
       "    </tr>\n",
       "    <tr>\n",
       "      <th>4</th>\n",
       "      <td>sakaiminato</td>\n",
       "      <td>75</td>\n",
       "      <td>JP</td>\n",
       "      <td>1580107592</td>\n",
       "      <td>81</td>\n",
       "      <td>282.15</td>\n",
       "      <td>35.55</td>\n",
       "      <td>133.23</td>\n",
       "      <td>12.90</td>\n",
       "    </tr>\n",
       "  </tbody>\n",
       "</table>\n",
       "</div>"
      ],
      "text/plain": [
       "              City  Cloudiness Country        Data  Humanity  Temperature  \\\n",
       "0           acarau         100      BR  1580107591        96       297.32   \n",
       "1  verkhnevilyuysk         100      RU  1580107592        97       245.50   \n",
       "2       bredasdorp          90      ZA  1580107753        59       291.15   \n",
       "3   severo-kurilsk          86      RU  1580107780        91       266.23   \n",
       "4      sakaiminato          75      JP  1580107592        81       282.15   \n",
       "\n",
       "   Latitude  Longitude  Wind Speed  \n",
       "0     -2.89     -40.12        2.13  \n",
       "1     63.45     120.32        1.47  \n",
       "2    -34.53      20.04        1.00  \n",
       "3     50.68     156.12        4.48  \n",
       "4     35.55     133.23       12.90  "
      ]
     },
     "execution_count": 49,
     "metadata": {},
     "output_type": "execute_result"
    }
   ],
   "source": [
    "dic_w={\"City\": city_list,\n",
    "     \"Cloudiness\":cloudiness,\n",
    "     \"Country\":country,\n",
    "     \"Data\":date,\n",
    "     \"Humanity\":humidity,\n",
    "     \"Temperature\":max_temp,\n",
    "     \"Latitude\":lat,\n",
    "     \"Longitude\":lng,\n",
    "     \"Wind Speed\":wind_speed\n",
    "    }\n",
    "dic_w=pd.DataFrame(dic_w)\n",
    "dic_w.head()"
   ]
  },
  {
   "cell_type": "code",
   "execution_count": 50,
   "metadata": {},
   "outputs": [],
   "source": [
    "\n",
    "output_file=os.path.join('..','output_data','city_output')\n",
    "\n",
    "with open(output_file,'w') as datafile:\n",
    "    dic_w.to_csv(output_file)\n",
    "\n"
   ]
  },
  {
   "cell_type": "code",
   "execution_count": null,
   "metadata": {},
   "outputs": [],
   "source": []
  },
  {
   "cell_type": "markdown",
   "metadata": {},
   "source": [
    "### Convert Raw Data to DataFrame\n",
    "* Export the city data into a .csv.\n",
    "* Display the DataFrame"
   ]
  },
  {
   "cell_type": "code",
   "execution_count": 4,
   "metadata": {},
   "outputs": [
    {
     "data": {
      "text/plain": [
       "City          535\n",
       "Cloudiness    535\n",
       "Country       535\n",
       "Date          535\n",
       "Humidity      535\n",
       "Lat           535\n",
       "Lng           535\n",
       "Max Temp      535\n",
       "Wind Speed    535\n",
       "dtype: int64"
      ]
     },
     "execution_count": 4,
     "metadata": {},
     "output_type": "execute_result"
    }
   ],
   "source": []
  },
  {
   "cell_type": "code",
   "execution_count": 5,
   "metadata": {},
   "outputs": [
    {
     "data": {
      "text/html": [
       "<div>\n",
       "<style scoped>\n",
       "    .dataframe tbody tr th:only-of-type {\n",
       "        vertical-align: middle;\n",
       "    }\n",
       "\n",
       "    .dataframe tbody tr th {\n",
       "        vertical-align: top;\n",
       "    }\n",
       "\n",
       "    .dataframe thead th {\n",
       "        text-align: right;\n",
       "    }\n",
       "</style>\n",
       "<table border=\"1\" class=\"dataframe\">\n",
       "  <thead>\n",
       "    <tr style=\"text-align: right;\">\n",
       "      <th></th>\n",
       "      <th>City</th>\n",
       "      <th>Cloudiness</th>\n",
       "      <th>Country</th>\n",
       "      <th>Date</th>\n",
       "      <th>Humidity</th>\n",
       "      <th>Lat</th>\n",
       "      <th>Lng</th>\n",
       "      <th>Max Temp</th>\n",
       "      <th>Wind Speed</th>\n",
       "    </tr>\n",
       "  </thead>\n",
       "  <tbody>\n",
       "    <tr>\n",
       "      <th>0</th>\n",
       "      <td>severo-kurilsk</td>\n",
       "      <td>92</td>\n",
       "      <td>RU</td>\n",
       "      <td>1534988024</td>\n",
       "      <td>93</td>\n",
       "      <td>50.68</td>\n",
       "      <td>156.12</td>\n",
       "      <td>54.27</td>\n",
       "      <td>2.73</td>\n",
       "    </tr>\n",
       "    <tr>\n",
       "      <th>1</th>\n",
       "      <td>darhan</td>\n",
       "      <td>8</td>\n",
       "      <td>MN</td>\n",
       "      <td>1534988024</td>\n",
       "      <td>71</td>\n",
       "      <td>49.49</td>\n",
       "      <td>105.92</td>\n",
       "      <td>72.81</td>\n",
       "      <td>8.55</td>\n",
       "    </tr>\n",
       "    <tr>\n",
       "      <th>2</th>\n",
       "      <td>tarakan</td>\n",
       "      <td>48</td>\n",
       "      <td>ID</td>\n",
       "      <td>1534988024</td>\n",
       "      <td>100</td>\n",
       "      <td>3.30</td>\n",
       "      <td>117.63</td>\n",
       "      <td>80.10</td>\n",
       "      <td>4.41</td>\n",
       "    </tr>\n",
       "    <tr>\n",
       "      <th>3</th>\n",
       "      <td>komsomolskiy</td>\n",
       "      <td>48</td>\n",
       "      <td>RU</td>\n",
       "      <td>1534987754</td>\n",
       "      <td>72</td>\n",
       "      <td>67.55</td>\n",
       "      <td>63.78</td>\n",
       "      <td>54.46</td>\n",
       "      <td>15.46</td>\n",
       "    </tr>\n",
       "    <tr>\n",
       "      <th>4</th>\n",
       "      <td>souillac</td>\n",
       "      <td>0</td>\n",
       "      <td>FR</td>\n",
       "      <td>1534986000</td>\n",
       "      <td>73</td>\n",
       "      <td>45.60</td>\n",
       "      <td>-0.60</td>\n",
       "      <td>71.60</td>\n",
       "      <td>3.36</td>\n",
       "    </tr>\n",
       "  </tbody>\n",
       "</table>\n",
       "</div>"
      ],
      "text/plain": [
       "             City  Cloudiness Country        Date  Humidity    Lat     Lng  \\\n",
       "0  severo-kurilsk          92      RU  1534988024        93  50.68  156.12   \n",
       "1          darhan           8      MN  1534988024        71  49.49  105.92   \n",
       "2         tarakan          48      ID  1534988024       100   3.30  117.63   \n",
       "3    komsomolskiy          48      RU  1534987754        72  67.55   63.78   \n",
       "4        souillac           0      FR  1534986000        73  45.60   -0.60   \n",
       "\n",
       "   Max Temp  Wind Speed  \n",
       "0     54.27        2.73  \n",
       "1     72.81        8.55  \n",
       "2     80.10        4.41  \n",
       "3     54.46       15.46  \n",
       "4     71.60        3.36  "
      ]
     },
     "execution_count": 5,
     "metadata": {},
     "output_type": "execute_result"
    }
   ],
   "source": []
  },
  {
   "cell_type": "markdown",
   "metadata": {},
   "source": [
    "### Plotting the Data\n",
    "* Use proper labeling of the plots using plot titles (including date of analysis) and axes labels.\n",
    "* Save the plotted figures as .pngs."
   ]
  },
  {
   "cell_type": "markdown",
   "metadata": {},
   "source": [
    "#### Latitude vs. Temperature Plot"
   ]
  },
  {
   "cell_type": "code",
   "execution_count": 108,
   "metadata": {
    "scrolled": true
   },
   "outputs": [
    {
     "data": {
      "image/png": "[encoded data removed]",
      "text/plain": [
       "<Figure size 432x288 with 1 Axes>"
      ]
     },
     "metadata": {
      "needs_background": "light"
     },
     "output_type": "display_data"
    }
   ],
   "source": [
    "\n",
    "dic_w.plot.scatter(x='Latitude',y='Temperature',title=\"Latitude vs.Temperature\")\n",
    "plt.savefig(\"../Images/Latitude_Temperature.png\")"
   ]
  },
  {
   "cell_type": "markdown",
   "metadata": {},
   "source": [
    "#### Latitude vs. Humidity Plot"
   ]
  },
  {
   "cell_type": "code",
   "execution_count": 109,
   "metadata": {},
   "outputs": [
    {
     "data": {
      "image/png": "[encoded data removed]",
      "text/plain": [
       "<Figure size 432x288 with 1 Axes>"
      ]
     },
     "metadata": {
      "needs_background": "light"
     },
     "output_type": "display_data"
    }
   ],
   "source": [
    "dic_w.plot.scatter(x='Latitude',y='Humanity',title=\"Latitude vs. Humanity\")\n",
    "plt.savefig(\"../Images/Latitude_Humidity.png\")"
   ]
  },
  {
   "cell_type": "markdown",
   "metadata": {},
   "source": [
    "#### Latitude vs. Cloudiness Plot"
   ]
  },
  {
   "cell_type": "code",
   "execution_count": 110,
   "metadata": {
    "scrolled": true
   },
   "outputs": [
    {
     "data": {
      "image/png": "[encoded data removed]",
      "text/plain": [
       "<Figure size 432x288 with 1 Axes>"
      ]
     },
     "metadata": {
      "needs_background": "light"
     },
     "output_type": "display_data"
    }
   ],
   "source": [
    "dic_w.plot.scatter(x='Latitude',y='Cloudiness',title=\"Latitude vs. Cloudiness\")\n",
    "plt.savefig(\"../Images/Latitude_Cloudiness.png\")"
   ]
  },
  {
   "cell_type": "markdown",
   "metadata": {},
   "source": [
    "#### Latitude vs. Wind Speed Plot"
   ]
  },
  {
   "cell_type": "code",
   "execution_count": 111,
   "metadata": {},
   "outputs": [
    {
     "data": {
      "image/png": "[encoded data removed]",
      "text/plain": [
       "<Figure size 432x288 with 1 Axes>"
      ]
     },
     "metadata": {
      "needs_background": "light"
     },
     "output_type": "display_data"
    }
   ],
   "source": [
    "dic_w.plot.scatter(x='Latitude',y='Wind Speed',title=\"Latitude vs. Wind Speed\")\n",
    "plt.savefig(\"../Images/Latitude_Wind Speed.png\")"
   ]
  },
  {
   "cell_type": "markdown",
   "metadata": {},
   "source": [
    "## Linear Regression"
   ]
  },
  {
   "cell_type": "code",
   "execution_count": 108,
   "metadata": {},
   "outputs": [],
   "source": [
    "# OPTIONAL: Create a function to create Linear Regression plots\n"
   ]
  },
  {
   "cell_type": "code",
   "execution_count": 78,
   "metadata": {},
   "outputs": [],
   "source": [
    "# Create Northern and Southern Hemisphere DataFrames\n"
   ]
  },
  {
   "cell_type": "code",
   "execution_count": null,
   "metadata": {},
   "outputs": [],
   "source": [
    "\n"
   ]
  },
  {
   "cell_type": "markdown",
   "metadata": {},
   "source": [
    "####  Northern Hemisphere - Max Temp vs. Latitude Linear Regression"
   ]
  },
  {
   "cell_type": "code",
   "execution_count": 114,
   "metadata": {},
   "outputs": [
    {
     "data": {
      "image/png": "[encoded data removed]",
      "text/plain": [
       "<Figure size 432x288 with 1 Axes>"
      ]
     },
     "metadata": {
      "needs_background": "light"
     },
     "output_type": "display_data"
    },
    {
     "data": {
      "text/plain": [
       "<Figure size 432x288 with 0 Axes>"
      ]
     },
     "metadata": {},
     "output_type": "display_data"
    }
   ],
   "source": [
    "x_values=dic_w['Latitude'][dic_w['Latitude']>=0]\n",
    "y_values=dic_w['Temperature'][dic_w['Latitude']>=0]\n",
    "\n",
    "\n",
    "(slope, intercept, rvalue, pvalue, stderr) = linregress(x_values, y_values)\n",
    "regress_values = x_values * slope + intercept\n",
    "line_eq = \"y = \" + str(round(slope,2)) + \"x + \" + str(round(intercept,2))\n",
    "plt.scatter(x_values,y_values)\n",
    "plt.plot(x_values,regress_values,\"r-\")\n",
    "plt.annotate(line_eq,(3,4),fontsize=15,color=\"red\")\n",
    "plt.xlabel('Latitude')\n",
    "plt.ylabel('Temperature')\n",
    "plt.show()\n",
    "plt.savefig(\"../Images/Northern Hemisphere - Max Temp vs. Latitude Linear Regression.png\")"
   ]
  },
  {
   "cell_type": "markdown",
   "metadata": {},
   "source": [
    "####  Southern Hemisphere - Max Temp vs. Latitude Linear Regression"
   ]
  },
  {
   "cell_type": "code",
   "execution_count": 113,
   "metadata": {},
   "outputs": [
    {
     "data": {
      "image/png": "[encoded data removed]",
      "text/plain": [
       "<Figure size 432x288 with 1 Axes>"
      ]
     },
     "metadata": {
      "needs_background": "light"
     },
     "output_type": "display_data"
    },
    {
     "data": {
      "text/plain": [
       "<Figure size 432x288 with 0 Axes>"
      ]
     },
     "metadata": {},
     "output_type": "display_data"
    }
   ],
   "source": [
    "x_values=dic_w['Latitude'][dic_w['Latitude']<0]\n",
    "y_values=dic_w['Temperature'][dic_w['Latitude']<0]\n",
    "\n",
    "\n",
    "(slope, intercept, rvalue, pvalue, stderr) = linregress(x_values, y_values)\n",
    "regress_values = x_values * slope + intercept\n",
    "line_eq = \"y = \" + str(round(slope,2)) + \"x + \" + str(round(intercept,2))\n",
    "plt.scatter(x_values,y_values)\n",
    "plt.plot(x_values,regress_values,\"r-\")\n",
    "plt.annotate(line_eq,(6,10),fontsize=2,color=\"red\")\n",
    "plt.xlabel('Latitude')\n",
    "plt.ylabel('Temperature')\n",
    "plt.show()\n",
    "plt.savefig(\"../Images/Southern Hemisphere - Max Temp vs. Latitude Linear Regression.png\")"
   ]
  },
  {
   "cell_type": "markdown",
   "metadata": {},
   "source": [
    "####  Northern Hemisphere - Humidity (%) vs. Latitude Linear Regression"
   ]
  },
  {
   "cell_type": "code",
   "execution_count": 115,
   "metadata": {},
   "outputs": [
    {
     "data": {
      "image/png": "[encoded data removed]",
      "text/plain": [
       "<Figure size 432x288 with 1 Axes>"
      ]
     },
     "metadata": {
      "needs_background": "light"
     },
     "output_type": "display_data"
    },
    {
     "data": {
      "text/plain": [
       "<Figure size 432x288 with 0 Axes>"
      ]
     },
     "metadata": {},
     "output_type": "display_data"
    }
   ],
   "source": [
    "x_values=dic_w['Latitude'][dic_w['Latitude']>=0]\n",
    "y_values=dic_w['Humanity'][dic_w['Latitude']>=0]\n",
    "\n",
    "\n",
    "(slope, intercept, rvalue, pvalue, stderr) = linregress(x_values, y_values)\n",
    "regress_values = x_values * slope + intercept\n",
    "line_eq = \"y = \" + str(round(slope,2)) + \"x + \" + str(round(intercept,2))\n",
    "plt.scatter(x_values,y_values)\n",
    "plt.plot(x_values,regress_values,\"r-\")\n",
    "plt.annotate(line_eq,(3,4),fontsize=15,color=\"red\")\n",
    "plt.xlabel('Latitude')\n",
    "plt.ylabel('Humanity')\n",
    "plt.show()\n",
    "plt.savefig(\"../Images/Northern Hemisphere - Humidity (%) vs. Latitude Linear Regression.png\")"
   ]
  },
  {
   "cell_type": "markdown",
   "metadata": {},
   "source": [
    "####  Southern Hemisphere - Humidity (%) vs. Latitude Linear Regression"
   ]
  },
  {
   "cell_type": "code",
   "execution_count": 116,
   "metadata": {},
   "outputs": [
    {
     "data": {
      "image/png": "[encoded data removed]",
      "text/plain": [
       "<Figure size 432x288 with 1 Axes>"
      ]
     },
     "metadata": {
      "needs_background": "light"
     },
     "output_type": "display_data"
    },
    {
     "data": {
      "text/plain": [
       "<Figure size 432x288 with 0 Axes>"
      ]
     },
     "metadata": {},
     "output_type": "display_data"
    }
   ],
   "source": [
    "x_values=dic_w['Latitude'][dic_w['Latitude']<0]\n",
    "y_values=dic_w['Humanity'][dic_w['Latitude']<0]\n",
    "\n",
    "\n",
    "(slope, intercept, rvalue, pvalue, stderr) = linregress(x_values, y_values)\n",
    "regress_values = x_values * slope + intercept\n",
    "line_eq = \"y = \" + str(round(slope,2)) + \"x + \" + str(round(intercept,2))\n",
    "plt.scatter(x_values,y_values)\n",
    "plt.plot(x_values,regress_values,\"r-\")\n",
    "plt.annotate(line_eq,(3,4),fontsize=15,color=\"red\")\n",
    "plt.xlabel('Latitude')\n",
    "plt.ylabel('Humanity')\n",
    "plt.show()\n",
    "plt.savefig(\"../Images/Southern Hemisphere - Humidity (%) vs. Latitude Linear Regression.png\")"
   ]
  },
  {
   "cell_type": "markdown",
   "metadata": {},
   "source": [
    "####  Northern Hemisphere - Cloudiness (%) vs. Latitude Linear Regression"
   ]
  },
  {
   "cell_type": "code",
   "execution_count": 117,
   "metadata": {},
   "outputs": [
    {
     "data": {
      "image/png": "[encoded data removed]",
      "text/plain": [
       "<Figure size 432x288 with 1 Axes>"
      ]
     },
     "metadata": {
      "needs_background": "light"
     },
     "output_type": "display_data"
    },
    {
     "data": {
      "text/plain": [
       "<Figure size 432x288 with 0 Axes>"
      ]
     },
     "metadata": {},
     "output_type": "display_data"
    }
   ],
   "source": [
    "x_values=dic_w['Latitude'][dic_w['Latitude']>=0]\n",
    "y_values=dic_w['Cloudiness'][dic_w['Latitude']>=0]\n",
    "\n",
    "\n",
    "(slope, intercept, rvalue, pvalue, stderr) = linregress(x_values, y_values)\n",
    "regress_values = x_values * slope + intercept\n",
    "line_eq = \"y = \" + str(round(slope,2)) + \"x + \" + str(round(intercept,2))\n",
    "plt.scatter(x_values,y_values)\n",
    "plt.plot(x_values,regress_values,\"r-\")\n",
    "plt.annotate(line_eq,(3,4),fontsize=15,color=\"red\")\n",
    "plt.xlabel('Latitude')\n",
    "plt.ylabel('Cloudiness')\n",
    "plt.show()\n",
    "plt.savefig(\"../Images/Northern Hemisphere - Cloudiness (%) vs. Latitude Linear Regression.png\")"
   ]
  },
  {
   "cell_type": "markdown",
   "metadata": {},
   "source": [
    "####  Southern Hemisphere - Cloudiness (%) vs. Latitude Linear Regression"
   ]
  },
  {
   "cell_type": "code",
   "execution_count": 118,
   "metadata": {},
   "outputs": [
    {
     "data": {
      "image/png": "[encoded data removed]",
      "text/plain": [
       "<Figure size 432x288 with 1 Axes>"
      ]
     },
     "metadata": {
      "needs_background": "light"
     },
     "output_type": "display_data"
    },
    {
     "data": {
      "text/plain": [
       "<Figure size 432x288 with 0 Axes>"
      ]
     },
     "metadata": {},
     "output_type": "display_data"
    }
   ],
   "source": [
    "x_values=dic_w['Latitude'][dic_w['Latitude']<0]\n",
    "y_values=dic_w['Cloudiness'][dic_w['Latitude']<0]\n",
    "\n",
    "\n",
    "(slope, intercept, rvalue, pvalue, stderr) = linregress(x_values, y_values)\n",
    "regress_values = x_values * slope + intercept\n",
    "line_eq = \"y = \" + str(round(slope,2)) + \"x + \" + str(round(intercept,2))\n",
    "plt.scatter(x_values,y_values)\n",
    "plt.plot(x_values,regress_values,\"r-\")\n",
    "plt.annotate(line_eq,(3,4),fontsize=15,color=\"red\")\n",
    "plt.xlabel('Latitude')\n",
    "plt.ylabel('Cloudiness')\n",
    "plt.show()\n",
    "plt.savefig(\"../Images/Southern Hemisphere - Cloudiness (%) vs. Latitude Linear Regression.png\")"
   ]
  },
  {
   "cell_type": "markdown",
   "metadata": {},
   "source": [
    "####  Northern Hemisphere - Wind Speed (mph) vs. Latitude Linear Regression"
   ]
  },
  {
   "cell_type": "code",
   "execution_count": 119,
   "metadata": {},
   "outputs": [
    {
     "data": {
      "image/png": "[encoded data removed]",
      "text/plain": [
       "<Figure size 432x288 with 1 Axes>"
      ]
     },
     "metadata": {
      "needs_background": "light"
     },
     "output_type": "display_data"
    },
    {
     "data": {
      "text/plain": [
       "<Figure size 432x288 with 0 Axes>"
      ]
     },
     "metadata": {},
     "output_type": "display_data"
    }
   ],
   "source": [
    "x_values=dic_w['Latitude'][dic_w['Latitude']>=0]\n",
    "y_values=dic_w['Wind Speed'][dic_w['Latitude']>=0]\n",
    "\n",
    "\n",
    "(slope, intercept, rvalue, pvalue, stderr) = linregress(x_values, y_values)\n",
    "regress_values = x_values * slope + intercept\n",
    "line_eq = \"y = \" + str(round(slope,2)) + \"x + \" + str(round(intercept,2))\n",
    "plt.scatter(x_values,y_values)\n",
    "plt.plot(x_values,regress_values,\"r-\")\n",
    "plt.annotate(line_eq,(3,4),fontsize=15,color=\"red\")\n",
    "plt.xlabel('Latitude')\n",
    "plt.ylabel('Cloudiness')\n",
    "plt.show()\n",
    "plt.savefig(\"../Images/Northern Hemisphere - Wind Speed (mph) vs. Latitude Linear Regression.png\")"
   ]
  },
  {
   "cell_type": "markdown",
   "metadata": {},
   "source": [
    "####  Southern Hemisphere - Wind Speed (mph) vs. Latitude Linear Regression"
   ]
  },
  {
   "cell_type": "code",
   "execution_count": 120,
   "metadata": {},
   "outputs": [
    {
     "data": {
      "image/png": "[encoded data removed]",
      "text/plain": [
       "<Figure size 432x288 with 1 Axes>"
      ]
     },
     "metadata": {
      "needs_background": "light"
     },
     "output_type": "display_data"
    },
    {
     "data": {
      "text/plain": [
       "<Figure size 432x288 with 0 Axes>"
      ]
     },
     "metadata": {},
     "output_type": "display_data"
    }
   ],
   "source": [
    "x_values=dic_w['Latitude'][dic_w['Latitude']<0]\n",
    "y_values=dic_w['Wind Speed'][dic_w['Latitude']<0]\n",
    "\n",
    "\n",
    "(slope, intercept, rvalue, pvalue, stderr) = linregress(x_values, y_values)\n",
    "regress_values = x_values * slope + intercept\n",
    "line_eq = \"y = \" + str(round(slope,2)) + \"x + \" + str(round(intercept,2))\n",
    "plt.scatter(x_values,y_values)\n",
    "plt.plot(x_values,regress_values,\"r-\")\n",
    "plt.annotate(line_eq,(3,4),fontsize=15,color=\"red\")\n",
    "plt.xlabel('Latitude')\n",
    "plt.ylabel('Cloudiness')\n",
    "plt.show()\n",
    "plt.savefig(\"../Images/Southern Hemisphere - Wind Speed (mph) vs. Latitude Linear Regression.png\")"
   ]
  },
  {
   "cell_type": "code",
   "execution_count": null,
   "metadata": {},
   "outputs": [],
   "source": []
  }
 ],
 "metadata": {
  "anaconda-cloud": {},
  "kernel_info": {
   "name": "python3"
  },
  "kernelspec": {
   "display_name": "Python 3",
   "language": "python",
   "name": "python3"
  },
  "language_info": {
   "codemirror_mode": {
    "name": "ipython",
    "version": 3
   },
   "file_extension": ".py",
   "mimetype": "text/x-python",
   "name": "python",
   "nbconvert_exporter": "python",
   "pygments_lexer": "ipython3",
   "version": "3.6.9"
  },
  "latex_envs": {
   "LaTeX_envs_menu_present": true,
   "autoclose": false,
   "autocomplete": true,
   "bibliofile": "biblio.bib",
   "cite_by": "apalike",
   "current_citInitial": 1,
   "eqLabelWithNumbers": true,
   "eqNumInitial": 1,
   "hotkeys": {
    "equation": "Ctrl-E",
    "itemize": "Ctrl-I"
   },
   "labels_anchors": false,
   "latex_user_defs": false,
   "report_style_numbering": false,
   "user_envs_cfg": false
  },
  "nteract": {
   "version": "0.12.3"
  }
 },
 "nbformat": 4,
 "nbformat_minor": 2
}
